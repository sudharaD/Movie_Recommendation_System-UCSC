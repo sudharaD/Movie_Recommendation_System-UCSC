{
 "cells": [
  {
   "cell_type": "markdown",
   "metadata": {
    "id": "zuoFOsf1Pv28"
   },
   "source": [
    " ### Importing Libraries"
   ]
  },
  {
   "cell_type": "code",
   "execution_count": 1,
   "metadata": {
    "id": "5wwP7LnkPyPa"
   },
   "outputs": [],
   "source": [
    "import pandas as pd\n",
    "import seaborn as sns"
   ]
  },
  {
   "cell_type": "markdown",
   "metadata": {
    "id": "S0xK-Fd4P2kI"
   },
   "source": [
    "### Loading the dataset"
   ]
  },
  {
   "cell_type": "code",
   "execution_count": 2,
   "metadata": {
    "id": "Sdd7zP3wP1Rj"
   },
   "outputs": [],
   "source": [
    "df=pd.read_csv(\"movies.csv\")"
   ]
  },
  {
   "cell_type": "code",
   "execution_count": 3,
   "metadata": {
    "colab": {
     "base_uri": "https://localhost:8080/",
     "height": 814
    },
    "id": "m_7bmr3JP9-u",
    "outputId": "63fd49af-b2be-4d05-b017-fac856827d25"
   },
   "outputs": [
    {
     "data": {
      "text/html": [
       "<div>\n",
       "<style scoped>\n",
       "    .dataframe tbody tr th:only-of-type {\n",
       "        vertical-align: middle;\n",
       "    }\n",
       "\n",
       "    .dataframe tbody tr th {\n",
       "        vertical-align: top;\n",
       "    }\n",
       "\n",
       "    .dataframe thead th {\n",
       "        text-align: right;\n",
       "    }\n",
       "</style>\n",
       "<table border=\"1\" class=\"dataframe\">\n",
       "  <thead>\n",
       "    <tr style=\"text-align: right;\">\n",
       "      <th></th>\n",
       "      <th>name</th>\n",
       "      <th>rating</th>\n",
       "      <th>genre</th>\n",
       "      <th>year</th>\n",
       "      <th>released</th>\n",
       "      <th>score</th>\n",
       "      <th>votes</th>\n",
       "      <th>director</th>\n",
       "      <th>writer</th>\n",
       "      <th>star</th>\n",
       "      <th>country</th>\n",
       "      <th>budget</th>\n",
       "      <th>gross</th>\n",
       "      <th>company</th>\n",
       "      <th>runtime</th>\n",
       "    </tr>\n",
       "  </thead>\n",
       "  <tbody>\n",
       "    <tr>\n",
       "      <th>0</th>\n",
       "      <td>The Shining</td>\n",
       "      <td>R</td>\n",
       "      <td>Drama</td>\n",
       "      <td>1980</td>\n",
       "      <td>June 13, 1980 (United States)</td>\n",
       "      <td>8.4</td>\n",
       "      <td>927000.0</td>\n",
       "      <td>Stanley Kubrick</td>\n",
       "      <td>Stephen King</td>\n",
       "      <td>Jack Nicholson</td>\n",
       "      <td>United Kingdom</td>\n",
       "      <td>19000000.0</td>\n",
       "      <td>46998772.0</td>\n",
       "      <td>Warner Bros.</td>\n",
       "      <td>146.0</td>\n",
       "    </tr>\n",
       "    <tr>\n",
       "      <th>1</th>\n",
       "      <td>The Blue Lagoon</td>\n",
       "      <td>R</td>\n",
       "      <td>Adventure</td>\n",
       "      <td>1980</td>\n",
       "      <td>July 2, 1980 (United States)</td>\n",
       "      <td>5.8</td>\n",
       "      <td>65000.0</td>\n",
       "      <td>Randal Kleiser</td>\n",
       "      <td>Henry De Vere Stacpoole</td>\n",
       "      <td>Brooke Shields</td>\n",
       "      <td>United States</td>\n",
       "      <td>4500000.0</td>\n",
       "      <td>58853106.0</td>\n",
       "      <td>Columbia Pictures</td>\n",
       "      <td>104.0</td>\n",
       "    </tr>\n",
       "    <tr>\n",
       "      <th>2</th>\n",
       "      <td>Star Wars: Episode V - The Empire Strikes Back</td>\n",
       "      <td>PG</td>\n",
       "      <td>Action</td>\n",
       "      <td>1980</td>\n",
       "      <td>June 20, 1980 (United States)</td>\n",
       "      <td>8.7</td>\n",
       "      <td>1200000.0</td>\n",
       "      <td>Irvin Kershner</td>\n",
       "      <td>Leigh Brackett</td>\n",
       "      <td>Mark Hamill</td>\n",
       "      <td>United States</td>\n",
       "      <td>18000000.0</td>\n",
       "      <td>538375067.0</td>\n",
       "      <td>Lucasfilm</td>\n",
       "      <td>124.0</td>\n",
       "    </tr>\n",
       "    <tr>\n",
       "      <th>3</th>\n",
       "      <td>Airplane!</td>\n",
       "      <td>PG</td>\n",
       "      <td>Comedy</td>\n",
       "      <td>1980</td>\n",
       "      <td>July 2, 1980 (United States)</td>\n",
       "      <td>7.7</td>\n",
       "      <td>221000.0</td>\n",
       "      <td>Jim Abrahams</td>\n",
       "      <td>Jim Abrahams</td>\n",
       "      <td>Robert Hays</td>\n",
       "      <td>United States</td>\n",
       "      <td>3500000.0</td>\n",
       "      <td>83453539.0</td>\n",
       "      <td>Paramount Pictures</td>\n",
       "      <td>88.0</td>\n",
       "    </tr>\n",
       "    <tr>\n",
       "      <th>4</th>\n",
       "      <td>Caddyshack</td>\n",
       "      <td>R</td>\n",
       "      <td>Comedy</td>\n",
       "      <td>1980</td>\n",
       "      <td>July 25, 1980 (United States)</td>\n",
       "      <td>7.3</td>\n",
       "      <td>108000.0</td>\n",
       "      <td>Harold Ramis</td>\n",
       "      <td>Brian Doyle-Murray</td>\n",
       "      <td>Chevy Chase</td>\n",
       "      <td>United States</td>\n",
       "      <td>6000000.0</td>\n",
       "      <td>39846344.0</td>\n",
       "      <td>Orion Pictures</td>\n",
       "      <td>98.0</td>\n",
       "    </tr>\n",
       "    <tr>\n",
       "      <th>...</th>\n",
       "      <td>...</td>\n",
       "      <td>...</td>\n",
       "      <td>...</td>\n",
       "      <td>...</td>\n",
       "      <td>...</td>\n",
       "      <td>...</td>\n",
       "      <td>...</td>\n",
       "      <td>...</td>\n",
       "      <td>...</td>\n",
       "      <td>...</td>\n",
       "      <td>...</td>\n",
       "      <td>...</td>\n",
       "      <td>...</td>\n",
       "      <td>...</td>\n",
       "      <td>...</td>\n",
       "    </tr>\n",
       "    <tr>\n",
       "      <th>7663</th>\n",
       "      <td>More to Life</td>\n",
       "      <td>NaN</td>\n",
       "      <td>Drama</td>\n",
       "      <td>2020</td>\n",
       "      <td>October 23, 2020 (United States)</td>\n",
       "      <td>3.1</td>\n",
       "      <td>18.0</td>\n",
       "      <td>Joseph Ebanks</td>\n",
       "      <td>Joseph Ebanks</td>\n",
       "      <td>Shannon Bond</td>\n",
       "      <td>United States</td>\n",
       "      <td>7000.0</td>\n",
       "      <td>NaN</td>\n",
       "      <td>NaN</td>\n",
       "      <td>90.0</td>\n",
       "    </tr>\n",
       "    <tr>\n",
       "      <th>7664</th>\n",
       "      <td>Dream Round</td>\n",
       "      <td>NaN</td>\n",
       "      <td>Comedy</td>\n",
       "      <td>2020</td>\n",
       "      <td>February 7, 2020 (United States)</td>\n",
       "      <td>4.7</td>\n",
       "      <td>36.0</td>\n",
       "      <td>Dusty Dukatz</td>\n",
       "      <td>Lisa Huston</td>\n",
       "      <td>Michael Saquella</td>\n",
       "      <td>United States</td>\n",
       "      <td>NaN</td>\n",
       "      <td>NaN</td>\n",
       "      <td>Cactus Blue Entertainment</td>\n",
       "      <td>90.0</td>\n",
       "    </tr>\n",
       "    <tr>\n",
       "      <th>7665</th>\n",
       "      <td>Saving Mbango</td>\n",
       "      <td>NaN</td>\n",
       "      <td>Drama</td>\n",
       "      <td>2020</td>\n",
       "      <td>April 27, 2020 (Cameroon)</td>\n",
       "      <td>5.7</td>\n",
       "      <td>29.0</td>\n",
       "      <td>Nkanya Nkwai</td>\n",
       "      <td>Lynno Lovert</td>\n",
       "      <td>Onyama Laura</td>\n",
       "      <td>United States</td>\n",
       "      <td>58750.0</td>\n",
       "      <td>NaN</td>\n",
       "      <td>Embi Productions</td>\n",
       "      <td>NaN</td>\n",
       "    </tr>\n",
       "    <tr>\n",
       "      <th>7666</th>\n",
       "      <td>It's Just Us</td>\n",
       "      <td>NaN</td>\n",
       "      <td>Drama</td>\n",
       "      <td>2020</td>\n",
       "      <td>October 1, 2020 (United States)</td>\n",
       "      <td>NaN</td>\n",
       "      <td>NaN</td>\n",
       "      <td>James Randall</td>\n",
       "      <td>James Randall</td>\n",
       "      <td>Christina Roz</td>\n",
       "      <td>United States</td>\n",
       "      <td>15000.0</td>\n",
       "      <td>NaN</td>\n",
       "      <td>NaN</td>\n",
       "      <td>120.0</td>\n",
       "    </tr>\n",
       "    <tr>\n",
       "      <th>7667</th>\n",
       "      <td>Tee em el</td>\n",
       "      <td>NaN</td>\n",
       "      <td>Horror</td>\n",
       "      <td>2020</td>\n",
       "      <td>August 19, 2020 (United States)</td>\n",
       "      <td>5.7</td>\n",
       "      <td>7.0</td>\n",
       "      <td>Pereko Mosia</td>\n",
       "      <td>Pereko Mosia</td>\n",
       "      <td>Siyabonga Mabaso</td>\n",
       "      <td>South Africa</td>\n",
       "      <td>NaN</td>\n",
       "      <td>NaN</td>\n",
       "      <td>PK 65 Films</td>\n",
       "      <td>102.0</td>\n",
       "    </tr>\n",
       "  </tbody>\n",
       "</table>\n",
       "<p>7668 rows × 15 columns</p>\n",
       "</div>"
      ],
      "text/plain": [
       "                                                name rating      genre  year  \\\n",
       "0                                        The Shining      R      Drama  1980   \n",
       "1                                    The Blue Lagoon      R  Adventure  1980   \n",
       "2     Star Wars: Episode V - The Empire Strikes Back     PG     Action  1980   \n",
       "3                                          Airplane!     PG     Comedy  1980   \n",
       "4                                         Caddyshack      R     Comedy  1980   \n",
       "...                                              ...    ...        ...   ...   \n",
       "7663                                    More to Life    NaN      Drama  2020   \n",
       "7664                                     Dream Round    NaN     Comedy  2020   \n",
       "7665                                   Saving Mbango    NaN      Drama  2020   \n",
       "7666                                    It's Just Us    NaN      Drama  2020   \n",
       "7667                                       Tee em el    NaN     Horror  2020   \n",
       "\n",
       "                              released  score      votes         director  \\\n",
       "0        June 13, 1980 (United States)    8.4   927000.0  Stanley Kubrick   \n",
       "1         July 2, 1980 (United States)    5.8    65000.0   Randal Kleiser   \n",
       "2        June 20, 1980 (United States)    8.7  1200000.0   Irvin Kershner   \n",
       "3         July 2, 1980 (United States)    7.7   221000.0     Jim Abrahams   \n",
       "4        July 25, 1980 (United States)    7.3   108000.0     Harold Ramis   \n",
       "...                                ...    ...        ...              ...   \n",
       "7663  October 23, 2020 (United States)    3.1       18.0    Joseph Ebanks   \n",
       "7664  February 7, 2020 (United States)    4.7       36.0     Dusty Dukatz   \n",
       "7665         April 27, 2020 (Cameroon)    5.7       29.0     Nkanya Nkwai   \n",
       "7666   October 1, 2020 (United States)    NaN        NaN    James Randall   \n",
       "7667   August 19, 2020 (United States)    5.7        7.0     Pereko Mosia   \n",
       "\n",
       "                       writer              star         country      budget  \\\n",
       "0                Stephen King    Jack Nicholson  United Kingdom  19000000.0   \n",
       "1     Henry De Vere Stacpoole    Brooke Shields   United States   4500000.0   \n",
       "2              Leigh Brackett       Mark Hamill   United States  18000000.0   \n",
       "3                Jim Abrahams       Robert Hays   United States   3500000.0   \n",
       "4          Brian Doyle-Murray       Chevy Chase   United States   6000000.0   \n",
       "...                       ...               ...             ...         ...   \n",
       "7663            Joseph Ebanks      Shannon Bond   United States      7000.0   \n",
       "7664              Lisa Huston  Michael Saquella   United States         NaN   \n",
       "7665             Lynno Lovert      Onyama Laura   United States     58750.0   \n",
       "7666            James Randall     Christina Roz   United States     15000.0   \n",
       "7667             Pereko Mosia  Siyabonga Mabaso    South Africa         NaN   \n",
       "\n",
       "            gross                    company  runtime  \n",
       "0      46998772.0               Warner Bros.    146.0  \n",
       "1      58853106.0          Columbia Pictures    104.0  \n",
       "2     538375067.0                  Lucasfilm    124.0  \n",
       "3      83453539.0         Paramount Pictures     88.0  \n",
       "4      39846344.0             Orion Pictures     98.0  \n",
       "...           ...                        ...      ...  \n",
       "7663          NaN                        NaN     90.0  \n",
       "7664          NaN  Cactus Blue Entertainment     90.0  \n",
       "7665          NaN           Embi Productions      NaN  \n",
       "7666          NaN                        NaN    120.0  \n",
       "7667          NaN                PK 65 Films    102.0  \n",
       "\n",
       "[7668 rows x 15 columns]"
      ]
     },
     "execution_count": 3,
     "metadata": {},
     "output_type": "execute_result"
    }
   ],
   "source": [
    "df"
   ]
  },
  {
   "cell_type": "markdown",
   "metadata": {
    "id": "CLUQnb9YQaDu"
   },
   "source": [
    "Necessary featuers required for the recommendation\n",
    "\n",
    "\n",
    "1. name\n",
    "2. rating\n",
    "3. genre \n",
    "4. score\n",
    "5. votes\n",
    "6. director\n",
    "7. writer\n",
    "8. star\n",
    "9. country\n",
    "10. company\n",
    "\n",
    "\n",
    "\n",
    "\n",
    "\n",
    "\n",
    "\n"
   ]
  },
  {
   "cell_type": "markdown",
   "metadata": {
    "id": "qI7DsH0rQCgG"
   },
   "source": [
    "### Removing unnecessary columns not required for the model"
   ]
  },
  {
   "cell_type": "code",
   "execution_count": 4,
   "metadata": {
    "colab": {
     "base_uri": "https://localhost:8080/",
     "height": 323
    },
    "id": "FYKfg5KdP-yH",
    "outputId": "01083dfc-18b8-4e8d-8142-286dc496a482"
   },
   "outputs": [],
   "source": [
    "df=df.drop(columns=[\"year\",\"released\",\"budget\",\"gross\",\"runtime\"])"
   ]
  },
  {
   "cell_type": "code",
   "execution_count": 5,
   "metadata": {
    "colab": {
     "base_uri": "https://localhost:8080/",
     "height": 571
    },
    "id": "eWOw_F6KQJaJ",
    "outputId": "9ee45fbe-fa67-4e86-e8cf-405512b1fdfa"
   },
   "outputs": [
    {
     "data": {
      "text/html": [
       "<div>\n",
       "<style scoped>\n",
       "    .dataframe tbody tr th:only-of-type {\n",
       "        vertical-align: middle;\n",
       "    }\n",
       "\n",
       "    .dataframe tbody tr th {\n",
       "        vertical-align: top;\n",
       "    }\n",
       "\n",
       "    .dataframe thead th {\n",
       "        text-align: right;\n",
       "    }\n",
       "</style>\n",
       "<table border=\"1\" class=\"dataframe\">\n",
       "  <thead>\n",
       "    <tr style=\"text-align: right;\">\n",
       "      <th></th>\n",
       "      <th>name</th>\n",
       "      <th>rating</th>\n",
       "      <th>genre</th>\n",
       "      <th>score</th>\n",
       "      <th>votes</th>\n",
       "      <th>director</th>\n",
       "      <th>writer</th>\n",
       "      <th>star</th>\n",
       "      <th>country</th>\n",
       "      <th>company</th>\n",
       "    </tr>\n",
       "  </thead>\n",
       "  <tbody>\n",
       "    <tr>\n",
       "      <th>0</th>\n",
       "      <td>The Shining</td>\n",
       "      <td>R</td>\n",
       "      <td>Drama</td>\n",
       "      <td>8.4</td>\n",
       "      <td>927000.0</td>\n",
       "      <td>Stanley Kubrick</td>\n",
       "      <td>Stephen King</td>\n",
       "      <td>Jack Nicholson</td>\n",
       "      <td>United Kingdom</td>\n",
       "      <td>Warner Bros.</td>\n",
       "    </tr>\n",
       "    <tr>\n",
       "      <th>1</th>\n",
       "      <td>The Blue Lagoon</td>\n",
       "      <td>R</td>\n",
       "      <td>Adventure</td>\n",
       "      <td>5.8</td>\n",
       "      <td>65000.0</td>\n",
       "      <td>Randal Kleiser</td>\n",
       "      <td>Henry De Vere Stacpoole</td>\n",
       "      <td>Brooke Shields</td>\n",
       "      <td>United States</td>\n",
       "      <td>Columbia Pictures</td>\n",
       "    </tr>\n",
       "    <tr>\n",
       "      <th>2</th>\n",
       "      <td>Star Wars: Episode V - The Empire Strikes Back</td>\n",
       "      <td>PG</td>\n",
       "      <td>Action</td>\n",
       "      <td>8.7</td>\n",
       "      <td>1200000.0</td>\n",
       "      <td>Irvin Kershner</td>\n",
       "      <td>Leigh Brackett</td>\n",
       "      <td>Mark Hamill</td>\n",
       "      <td>United States</td>\n",
       "      <td>Lucasfilm</td>\n",
       "    </tr>\n",
       "    <tr>\n",
       "      <th>3</th>\n",
       "      <td>Airplane!</td>\n",
       "      <td>PG</td>\n",
       "      <td>Comedy</td>\n",
       "      <td>7.7</td>\n",
       "      <td>221000.0</td>\n",
       "      <td>Jim Abrahams</td>\n",
       "      <td>Jim Abrahams</td>\n",
       "      <td>Robert Hays</td>\n",
       "      <td>United States</td>\n",
       "      <td>Paramount Pictures</td>\n",
       "    </tr>\n",
       "    <tr>\n",
       "      <th>4</th>\n",
       "      <td>Caddyshack</td>\n",
       "      <td>R</td>\n",
       "      <td>Comedy</td>\n",
       "      <td>7.3</td>\n",
       "      <td>108000.0</td>\n",
       "      <td>Harold Ramis</td>\n",
       "      <td>Brian Doyle-Murray</td>\n",
       "      <td>Chevy Chase</td>\n",
       "      <td>United States</td>\n",
       "      <td>Orion Pictures</td>\n",
       "    </tr>\n",
       "    <tr>\n",
       "      <th>...</th>\n",
       "      <td>...</td>\n",
       "      <td>...</td>\n",
       "      <td>...</td>\n",
       "      <td>...</td>\n",
       "      <td>...</td>\n",
       "      <td>...</td>\n",
       "      <td>...</td>\n",
       "      <td>...</td>\n",
       "      <td>...</td>\n",
       "      <td>...</td>\n",
       "    </tr>\n",
       "    <tr>\n",
       "      <th>7663</th>\n",
       "      <td>More to Life</td>\n",
       "      <td>NaN</td>\n",
       "      <td>Drama</td>\n",
       "      <td>3.1</td>\n",
       "      <td>18.0</td>\n",
       "      <td>Joseph Ebanks</td>\n",
       "      <td>Joseph Ebanks</td>\n",
       "      <td>Shannon Bond</td>\n",
       "      <td>United States</td>\n",
       "      <td>NaN</td>\n",
       "    </tr>\n",
       "    <tr>\n",
       "      <th>7664</th>\n",
       "      <td>Dream Round</td>\n",
       "      <td>NaN</td>\n",
       "      <td>Comedy</td>\n",
       "      <td>4.7</td>\n",
       "      <td>36.0</td>\n",
       "      <td>Dusty Dukatz</td>\n",
       "      <td>Lisa Huston</td>\n",
       "      <td>Michael Saquella</td>\n",
       "      <td>United States</td>\n",
       "      <td>Cactus Blue Entertainment</td>\n",
       "    </tr>\n",
       "    <tr>\n",
       "      <th>7665</th>\n",
       "      <td>Saving Mbango</td>\n",
       "      <td>NaN</td>\n",
       "      <td>Drama</td>\n",
       "      <td>5.7</td>\n",
       "      <td>29.0</td>\n",
       "      <td>Nkanya Nkwai</td>\n",
       "      <td>Lynno Lovert</td>\n",
       "      <td>Onyama Laura</td>\n",
       "      <td>United States</td>\n",
       "      <td>Embi Productions</td>\n",
       "    </tr>\n",
       "    <tr>\n",
       "      <th>7666</th>\n",
       "      <td>It's Just Us</td>\n",
       "      <td>NaN</td>\n",
       "      <td>Drama</td>\n",
       "      <td>NaN</td>\n",
       "      <td>NaN</td>\n",
       "      <td>James Randall</td>\n",
       "      <td>James Randall</td>\n",
       "      <td>Christina Roz</td>\n",
       "      <td>United States</td>\n",
       "      <td>NaN</td>\n",
       "    </tr>\n",
       "    <tr>\n",
       "      <th>7667</th>\n",
       "      <td>Tee em el</td>\n",
       "      <td>NaN</td>\n",
       "      <td>Horror</td>\n",
       "      <td>5.7</td>\n",
       "      <td>7.0</td>\n",
       "      <td>Pereko Mosia</td>\n",
       "      <td>Pereko Mosia</td>\n",
       "      <td>Siyabonga Mabaso</td>\n",
       "      <td>South Africa</td>\n",
       "      <td>PK 65 Films</td>\n",
       "    </tr>\n",
       "  </tbody>\n",
       "</table>\n",
       "<p>7668 rows × 10 columns</p>\n",
       "</div>"
      ],
      "text/plain": [
       "                                                name rating      genre  score  \\\n",
       "0                                        The Shining      R      Drama    8.4   \n",
       "1                                    The Blue Lagoon      R  Adventure    5.8   \n",
       "2     Star Wars: Episode V - The Empire Strikes Back     PG     Action    8.7   \n",
       "3                                          Airplane!     PG     Comedy    7.7   \n",
       "4                                         Caddyshack      R     Comedy    7.3   \n",
       "...                                              ...    ...        ...    ...   \n",
       "7663                                    More to Life    NaN      Drama    3.1   \n",
       "7664                                     Dream Round    NaN     Comedy    4.7   \n",
       "7665                                   Saving Mbango    NaN      Drama    5.7   \n",
       "7666                                    It's Just Us    NaN      Drama    NaN   \n",
       "7667                                       Tee em el    NaN     Horror    5.7   \n",
       "\n",
       "          votes         director                   writer              star  \\\n",
       "0      927000.0  Stanley Kubrick             Stephen King    Jack Nicholson   \n",
       "1       65000.0   Randal Kleiser  Henry De Vere Stacpoole    Brooke Shields   \n",
       "2     1200000.0   Irvin Kershner           Leigh Brackett       Mark Hamill   \n",
       "3      221000.0     Jim Abrahams             Jim Abrahams       Robert Hays   \n",
       "4      108000.0     Harold Ramis       Brian Doyle-Murray       Chevy Chase   \n",
       "...         ...              ...                      ...               ...   \n",
       "7663       18.0    Joseph Ebanks            Joseph Ebanks      Shannon Bond   \n",
       "7664       36.0     Dusty Dukatz              Lisa Huston  Michael Saquella   \n",
       "7665       29.0     Nkanya Nkwai             Lynno Lovert      Onyama Laura   \n",
       "7666        NaN    James Randall            James Randall     Christina Roz   \n",
       "7667        7.0     Pereko Mosia             Pereko Mosia  Siyabonga Mabaso   \n",
       "\n",
       "             country                    company  \n",
       "0     United Kingdom               Warner Bros.  \n",
       "1      United States          Columbia Pictures  \n",
       "2      United States                  Lucasfilm  \n",
       "3      United States         Paramount Pictures  \n",
       "4      United States             Orion Pictures  \n",
       "...              ...                        ...  \n",
       "7663   United States                        NaN  \n",
       "7664   United States  Cactus Blue Entertainment  \n",
       "7665   United States           Embi Productions  \n",
       "7666   United States                        NaN  \n",
       "7667    South Africa                PK 65 Films  \n",
       "\n",
       "[7668 rows x 10 columns]"
      ]
     },
     "execution_count": 5,
     "metadata": {},
     "output_type": "execute_result"
    }
   ],
   "source": [
    "df"
   ]
  },
  {
   "cell_type": "markdown",
   "metadata": {
    "id": "ceYol3wpS6oB"
   },
   "source": [
    "### Handling Missing values"
   ]
  },
  {
   "cell_type": "code",
   "execution_count": 6,
   "metadata": {
    "colab": {
     "base_uri": "https://localhost:8080/"
    },
    "id": "2pKaIoI2S2Ns",
    "outputId": "70d3d8e7-518e-4071-9ae9-360a36898bc3"
   },
   "outputs": [
    {
     "data": {
      "text/plain": [
       "name         0\n",
       "rating      77\n",
       "genre        0\n",
       "score        3\n",
       "votes        3\n",
       "director     0\n",
       "writer       3\n",
       "star         1\n",
       "country      3\n",
       "company     17\n",
       "dtype: int64"
      ]
     },
     "execution_count": 6,
     "metadata": {},
     "output_type": "execute_result"
    }
   ],
   "source": [
    "df.isnull().sum()"
   ]
  },
  {
   "cell_type": "markdown",
   "metadata": {
    "id": "epEkQbxzVxhD"
   },
   "source": []
  },
  {
   "cell_type": "markdown",
   "metadata": {
    "id": "MYSBF0zecrqH"
   },
   "source": [
    "#### Visulaizing the rating in a count plot and assigning the missing values with the mode of the rating"
   ]
  },
  {
   "cell_type": "code",
   "execution_count": 7,
   "metadata": {
    "colab": {
     "base_uri": "https://localhost:8080/",
     "height": 701
    },
    "id": "HZEpqGd7TCOX",
    "outputId": "618f8b6d-1cf7-4d25-b5e9-69a0c41c14e2"
   },
   "outputs": [
    {
     "data": {
      "text/plain": [
       "[Text(0, 0, 'R'),\n",
       " Text(1, 0, 'PG'),\n",
       " Text(2, 0, 'G'),\n",
       " Text(3, 0, 'Not Rated'),\n",
       " Text(4, 0, 'NC-17'),\n",
       " Text(5, 0, 'Approved'),\n",
       " Text(6, 0, 'TV-PG'),\n",
       " Text(7, 0, 'PG-13'),\n",
       " Text(8, 0, 'Unrated'),\n",
       " Text(9, 0, 'X'),\n",
       " Text(10, 0, 'TV-MA'),\n",
       " Text(11, 0, 'TV-14')]"
      ]
     },
     "execution_count": 7,
     "metadata": {},
     "output_type": "execute_result"
    },
    {
     "data": {
      "image/png": "[encoded data removed]",
      "text/plain": [
       "<Figure size 432x288 with 1 Axes>"
      ]
     },
     "metadata": {
      "needs_background": "light"
     },
     "output_type": "display_data"
    }
   ],
   "source": [
    "g=sns.countplot(data=df, x=\"rating\")\n",
    "g.set_xticklabels(g.get_xticklabels(), rotation=30)\n",
    "\n"
   ]
  },
  {
   "cell_type": "code",
   "execution_count": 8,
   "metadata": {
    "colab": {
     "base_uri": "https://localhost:8080/"
    },
    "id": "IAIAVKjGTopX",
    "outputId": "567b6d98-571b-44c3-86f3-b9a1480a9e4c"
   },
   "outputs": [
    {
     "data": {
      "text/plain": [
       "0    R\n",
       "Name: rating, dtype: object"
      ]
     },
     "execution_count": 8,
     "metadata": {},
     "output_type": "execute_result"
    }
   ],
   "source": [
    "df.rating.mode()"
   ]
  },
  {
   "cell_type": "code",
   "execution_count": 9,
   "metadata": {
    "id": "m_vTNJwNpGwn"
   },
   "outputs": [],
   "source": [
    "df.rating=df.rating.fillna(df[\"rating\"].mode()[0])"
   ]
  },
  {
   "cell_type": "code",
   "execution_count": 10,
   "metadata": {
    "colab": {
     "base_uri": "https://localhost:8080/"
    },
    "id": "VdGLsaHNpTHV",
    "outputId": "0d3d00e0-1f78-4728-d27e-0ca36834063b"
   },
   "outputs": [
    {
     "data": {
      "text/plain": [
       "name         0\n",
       "rating       0\n",
       "genre        0\n",
       "score        3\n",
       "votes        3\n",
       "director     0\n",
       "writer       3\n",
       "star         1\n",
       "country      3\n",
       "company     17\n",
       "dtype: int64"
      ]
     },
     "execution_count": 10,
     "metadata": {},
     "output_type": "execute_result"
    }
   ],
   "source": [
    "df.isnull().sum()"
   ]
  },
  {
   "cell_type": "markdown",
   "metadata": {
    "id": "mfN0m-67q86s"
   },
   "source": [
    "##### replacing the missing values of score and votes with the mean"
   ]
  },
  {
   "cell_type": "code",
   "execution_count": 11,
   "metadata": {
    "id": "Rr-7bRagpmMS"
   },
   "outputs": [],
   "source": [
    "df.votes=df.votes.fillna(df[\"votes\"].mean())"
   ]
  },
  {
   "cell_type": "code",
   "execution_count": 12,
   "metadata": {
    "id": "HLJO--ZFrQri"
   },
   "outputs": [],
   "source": [
    "df.score=df.score.fillna(df[\"score\"].mean())"
   ]
  },
  {
   "cell_type": "markdown",
   "metadata": {
    "id": "trJ2i_69rp0_"
   },
   "source": [
    "#### replacing the misssing values of writer,star,country and company with the mode"
   ]
  },
  {
   "cell_type": "code",
   "execution_count": 13,
   "metadata": {
    "colab": {
     "base_uri": "https://localhost:8080/"
    },
    "id": "PZohnRFzrfI4",
    "outputId": "074b5c56-30cd-4ed8-d0f2-adf883046173"
   },
   "outputs": [
    {
     "data": {
      "text/plain": [
       "0    Woody Allen\n",
       "Name: writer, dtype: object"
      ]
     },
     "execution_count": 13,
     "metadata": {},
     "output_type": "execute_result"
    }
   ],
   "source": [
    "df.writer.mode()"
   ]
  },
  {
   "cell_type": "code",
   "execution_count": 14,
   "metadata": {
    "id": "eSnq79ycsDt1"
   },
   "outputs": [],
   "source": [
    "df.writer=df.writer.fillna(df[\"writer\"].mode()[0])"
   ]
  },
  {
   "cell_type": "code",
   "execution_count": 15,
   "metadata": {
    "colab": {
     "base_uri": "https://localhost:8080/"
    },
    "id": "vDeglhaRskGt",
    "outputId": "d9aa590f-ca7d-4117-e6e8-7b4fd5ba5521"
   },
   "outputs": [
    {
     "data": {
      "text/plain": [
       "0    Nicolas Cage\n",
       "Name: star, dtype: object"
      ]
     },
     "execution_count": 15,
     "metadata": {},
     "output_type": "execute_result"
    }
   ],
   "source": [
    "df.star.mode()"
   ]
  },
  {
   "cell_type": "code",
   "execution_count": 16,
   "metadata": {
    "id": "YGfSn5uXsm56"
   },
   "outputs": [],
   "source": [
    "df.star=df.star.fillna(df[\"star\"].mode()[0])"
   ]
  },
  {
   "cell_type": "code",
   "execution_count": 17,
   "metadata": {
    "colab": {
     "base_uri": "https://localhost:8080/"
    },
    "id": "2bbfbKVts-d-",
    "outputId": "dbdf0cc0-1001-4fdc-da95-35fc39ab7a20"
   },
   "outputs": [
    {
     "data": {
      "text/plain": [
       "0    United States\n",
       "Name: country, dtype: object"
      ]
     },
     "execution_count": 17,
     "metadata": {},
     "output_type": "execute_result"
    }
   ],
   "source": [
    "df.country.mode()"
   ]
  },
  {
   "cell_type": "code",
   "execution_count": 18,
   "metadata": {
    "id": "PfVMTFoAsta5"
   },
   "outputs": [],
   "source": [
    "df.country=df.country.fillna(df[\"country\"].mode()[0])"
   ]
  },
  {
   "cell_type": "code",
   "execution_count": 19,
   "metadata": {
    "colab": {
     "base_uri": "https://localhost:8080/"
    },
    "id": "W-plb_BktD5H",
    "outputId": "33965800-2ab6-4ec3-fc37-ff71f58cfa9e"
   },
   "outputs": [
    {
     "data": {
      "text/plain": [
       "0    Universal Pictures\n",
       "Name: company, dtype: object"
      ]
     },
     "execution_count": 19,
     "metadata": {},
     "output_type": "execute_result"
    }
   ],
   "source": [
    "df.company.mode()"
   ]
  },
  {
   "cell_type": "code",
   "execution_count": 20,
   "metadata": {
    "id": "Wx7VybOjs1Vy"
   },
   "outputs": [],
   "source": [
    "df.company=df.company.fillna(df[\"company\"].mode()[0])"
   ]
  },
  {
   "cell_type": "code",
   "execution_count": 21,
   "metadata": {
    "colab": {
     "base_uri": "https://localhost:8080/"
    },
    "id": "Q0qY0TiSs9WV",
    "outputId": "0c0db8ec-62cf-4cbb-9ccb-864ed06babc2"
   },
   "outputs": [
    {
     "data": {
      "text/plain": [
       "name        0\n",
       "rating      0\n",
       "genre       0\n",
       "score       0\n",
       "votes       0\n",
       "director    0\n",
       "writer      0\n",
       "star        0\n",
       "country     0\n",
       "company     0\n",
       "dtype: int64"
      ]
     },
     "execution_count": 21,
     "metadata": {},
     "output_type": "execute_result"
    }
   ],
   "source": [
    "df.isnull().sum()"
   ]
  },
  {
   "cell_type": "code",
   "execution_count": 25,
   "metadata": {
    "id": "5JUhGyYIvSHg"
   },
   "outputs": [
    {
     "data": {
      "text/plain": [
       "Index(['name', 'rating', 'genre', 'score', 'votes', 'director', 'writer',\n",
       "       'star', 'country', 'company'],\n",
       "      dtype='object')"
      ]
     },
     "execution_count": 25,
     "metadata": {},
     "output_type": "execute_result"
    }
   ],
   "source": [
    "df.columns"
   ]
  },
  {
   "cell_type": "code",
   "execution_count": 26,
   "metadata": {},
   "outputs": [
    {
     "name": "stdout",
     "output_type": "stream",
     "text": [
      "name         object\n",
      "rating       object\n",
      "genre        object\n",
      "score       float64\n",
      "votes       float64\n",
      "director     object\n",
      "writer       object\n",
      "star         object\n",
      "country      object\n",
      "company      object\n",
      "dtype: object\n"
     ]
    }
   ],
   "source": [
    "# Printing column data types in 'df'\n",
    "column_data_types = df.dtypes\n",
    "\n",
    "print(column_data_types)"
   ]
  },
  {
   "cell_type": "code",
   "execution_count": 28,
   "metadata": {},
   "outputs": [
    {
     "name": "stdout",
     "output_type": "stream",
     "text": [
      "                                             name  rating  genre     score  \\\n",
      "0                                     The Shining       6      6  2.074759   \n",
      "1                                 The Blue Lagoon       6      1 -0.609558   \n",
      "2  Star Wars: Episode V - The Empire Strikes Back       4      0  2.384488   \n",
      "3                                       Airplane!       4      4  1.352059   \n",
      "4                                      Caddyshack       6      4  0.939087   \n",
      "\n",
      "      votes  director  writer  star  country  company  \n",
      "0  5.137712      2589    4014  1047       54     2319  \n",
      "1 -0.141526      2269    1632   327       55      731  \n",
      "2  6.809674      1111    2567  1745       55     1540  \n",
      "3  0.813881      1301    2000  2246       55     1812  \n",
      "4  0.121824      1054     521   410       55     1777  \n"
     ]
    }
   ],
   "source": [
    "from sklearn.preprocessing import StandardScaler, LabelEncoder\n",
    "\n",
    "df_preprocessed = df.copy()  # Create a copy of the original DataFrame for preprocessing\n",
    "\n",
    "# Scale numerical features\n",
    "numerical_features = ['score', 'votes']\n",
    "scaler = StandardScaler()\n",
    "df_preprocessed[numerical_features] = scaler.fit_transform(df_preprocessed[numerical_features])\n",
    "\n",
    "# Encode categorical variables\n",
    "categorical_features = ['rating', 'genre', 'director', 'writer', 'star', 'country', 'company']\n",
    "label_encoder = LabelEncoder()\n",
    "for feature in categorical_features:\n",
    "    df_preprocessed[feature] = label_encoder.fit_transform(df_preprocessed[feature])\n",
    "\n",
    "# Check the preprocessed DataFrame\n",
    "print(df_preprocessed.head())"
   ]
  },
  {
   "cell_type": "code",
   "execution_count": 29,
   "metadata": {},
   "outputs": [
    {
     "name": "stdout",
     "output_type": "stream",
     "text": [
      "                                             name  score      votes  \\\n",
      "0                                     The Shining    8.4   927000.0   \n",
      "1                                 The Blue Lagoon    5.8    65000.0   \n",
      "2  Star Wars: Episode V - The Empire Strikes Back    8.7  1200000.0   \n",
      "3                                       Airplane!    7.7   221000.0   \n",
      "4                                      Caddyshack    7.3   108000.0   \n",
      "\n",
      "          director                   writer            star         country  \\\n",
      "0  Stanley Kubrick             Stephen King  Jack Nicholson  United Kingdom   \n",
      "1   Randal Kleiser  Henry De Vere Stacpoole  Brooke Shields   United States   \n",
      "2   Irvin Kershner           Leigh Brackett     Mark Hamill   United States   \n",
      "3     Jim Abrahams             Jim Abrahams     Robert Hays   United States   \n",
      "4     Harold Ramis       Brian Doyle-Murray     Chevy Chase   United States   \n",
      "\n",
      "              company  is_Rated_Approved  is_Rated_G  ...  is_History  \\\n",
      "0        Warner Bros.                  0           0  ...           0   \n",
      "1   Columbia Pictures                  0           0  ...           0   \n",
      "2           Lucasfilm                  0           0  ...           0   \n",
      "3  Paramount Pictures                  0           0  ...           0   \n",
      "4      Orion Pictures                  0           0  ...           0   \n",
      "\n",
      "   is_Horror  is_Music  is_Musical  is_Mystery  is_Romance  is_Sci-Fi  \\\n",
      "0          0         0           0           0           0          0   \n",
      "1          0         0           0           0           0          0   \n",
      "2          0         0           0           0           0          0   \n",
      "3          0         0           0           0           0          0   \n",
      "4          0         0           0           0           0          0   \n",
      "\n",
      "   is_Sport  is_Thriller  is_Western  \n",
      "0         0            0           0  \n",
      "1         0            0           0  \n",
      "2         0            0           0  \n",
      "3         0            0           0  \n",
      "4         0            0           0  \n",
      "\n",
      "[5 rows x 39 columns]\n"
     ]
    }
   ],
   "source": [
    "df_preprocessed = df.copy()  # Create a copy of the original DataFrame for preprocessing\n",
    "\n",
    "# One-hot encode the rating feature\n",
    "df_preprocessed = pd.concat([df_preprocessed, pd.get_dummies(df_preprocessed['rating'], prefix='is_Rated')], axis=1)\n",
    "\n",
    "# One-hot encode the genre feature\n",
    "genres = df_preprocessed['genre'].str.get_dummies(sep=',')\n",
    "df_preprocessed = pd.concat([df_preprocessed, genres.add_prefix('is_')], axis=1)\n",
    "\n",
    "# Drop the original rating and genre columns\n",
    "df_preprocessed.drop(['rating', 'genre'], axis=1, inplace=True)\n",
    "\n",
    "# Check the preprocessed DataFrame\n",
    "print(df_preprocessed.head())"
   ]
  },
  {
   "cell_type": "code",
   "execution_count": 30,
   "metadata": {},
   "outputs": [
    {
     "name": "stdout",
     "output_type": "stream",
     "text": [
      "                                             name  score      votes  \\\n",
      "0                                     The Shining    8.4   927000.0   \n",
      "1                                 The Blue Lagoon    5.8    65000.0   \n",
      "2  Star Wars: Episode V - The Empire Strikes Back    8.7  1200000.0   \n",
      "3                                       Airplane!    7.7   221000.0   \n",
      "4                                      Caddyshack    7.3   108000.0   \n",
      "\n",
      "          director                   writer            star         country  \\\n",
      "0  Stanley Kubrick             Stephen King  Jack Nicholson  United Kingdom   \n",
      "1   Randal Kleiser  Henry De Vere Stacpoole  Brooke Shields   United States   \n",
      "2   Irvin Kershner           Leigh Brackett     Mark Hamill   United States   \n",
      "3     Jim Abrahams             Jim Abrahams     Robert Hays   United States   \n",
      "4     Harold Ramis       Brian Doyle-Murray     Chevy Chase   United States   \n",
      "\n",
      "              company  is_Rated_Approved  is_Rated_G  ...  is_Horror  \\\n",
      "0        Warner Bros.                  0           0  ...          0   \n",
      "1   Columbia Pictures                  0           0  ...          0   \n",
      "2           Lucasfilm                  0           0  ...          0   \n",
      "3  Paramount Pictures                  0           0  ...          0   \n",
      "4      Orion Pictures                  0           0  ...          0   \n",
      "\n",
      "   is_Music  is_Musical  is_Mystery  is_Romance  is_Sci-Fi  is_Sport  \\\n",
      "0         0           0           0           0          0         0   \n",
      "1         0           0           0           0          0         0   \n",
      "2         0           0           0           0          0         0   \n",
      "3         0           0           0           0          0         0   \n",
      "4         0           0           0           0          0         0   \n",
      "\n",
      "   is_Thriller  is_Western  cluster_label  \n",
      "0            0           0              4  \n",
      "1            0           0              0  \n",
      "2            0           0              2  \n",
      "3            0           0              3  \n",
      "4            0           0              3  \n",
      "\n",
      "[5 rows x 40 columns]\n"
     ]
    }
   ],
   "source": [
    "from sklearn.cluster import KMeans\n",
    "\n",
    "# Select the features for clustering\n",
    "features_for_clustering = ['score', 'votes', 'is_Rated_R', 'is_Rated_PG', 'is_Rated_PG-13', 'is_Action', 'is_Thriller', 'is_Adventure']\n",
    "\n",
    "# Instantiate the K-means clustering algorithm\n",
    "kmeans = KMeans(n_clusters=5, random_state=42)  # You can specify the desired number of clusters (e.g., 5)\n",
    "\n",
    "# Fit the algorithm to your data\n",
    "kmeans.fit(df_preprocessed[features_for_clustering])\n",
    "\n",
    "# Get the cluster labels assigned to each data point\n",
    "cluster_labels = kmeans.labels_\n",
    "\n",
    "# Add the cluster labels to your preprocessed DataFrame\n",
    "df_preprocessed['cluster_label'] = cluster_labels\n",
    "\n",
    "# Check the updated DataFrame with cluster labels\n",
    "print(df_preprocessed.head())\n"
   ]
  },
  {
   "cell_type": "code",
   "execution_count": null,
   "metadata": {},
   "outputs": [],
   "source": []
  }
 ],
 "metadata": {
  "colab": {
   "provenance": []
  },
  "kernelspec": {
   "display_name": "Python 3 (ipykernel)",
   "language": "python",
   "name": "python3"
  },
  "language_info": {
   "codemirror_mode": {
    "name": "ipython",
    "version": 3
   },
   "file_extension": ".py",
   "mimetype": "text/x-python",
   "name": "python",
   "nbconvert_exporter": "python",
   "pygments_lexer": "ipython3",
   "version": "3.9.12"
  }
 },
 "nbformat": 4,
 "nbformat_minor": 1
}
